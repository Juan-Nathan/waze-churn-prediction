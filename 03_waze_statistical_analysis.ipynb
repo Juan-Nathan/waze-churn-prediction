{
 "cells": [
  {
   "cell_type": "markdown",
   "id": "d51a983d-8504-4ef3-befc-8c661dae9ab7",
   "metadata": {},
   "source": [
    "# Predicting Monthly User Churn for Waze\n",
    "\n",
    "This is an **advanced data analytics** project aimed at developing a machine learning model to predict **user churn**. Churn quantifies the number of users who have uninstalled the Waze app or stopped using the app. This project focuses on monthly user churn. An accurate model will help prevent churn, improve user retention, and grow Waze’s business.\n",
    "\n",
    "An accurate model can also help identify specific factors that contribute to churn and answer questions such as: \n",
    "- Who are the users most likely to churn?\n",
    "- Why do users churn? \n",
    "- When do users churn?\n",
    "\n",
    "For example, if Waze can identify a segment of users who are at high risk of churning, Waze can proactively engage these users with special offers to try and retain them. Otherwise, Waze may lose these users without knowing why. \n",
    "\n",
    "Ultimately, the insights generated will help Waze leadership optimize the company’s retention strategy, enhance user experience, and make data-driven decisions about product development.\n",
    "\n",
    "This is **Part 3** of the project."
   ]
  },
  {
   "cell_type": "markdown",
   "id": "e166913c-84b3-4f65-943a-4e0c6094bab0",
   "metadata": {},
   "source": [
    "## 3. Hypothesis testing and confidence intervals"
   ]
  },
  {
   "cell_type": "markdown",
   "id": "83b1e3e3-34e4-4e50-a735-8593f2f32ddd",
   "metadata": {},
   "source": [
    "**The purpose** of this notebook is to perform a two-sample hypothesis test and compute the corresponding confidence interval to determine whether there is a statistically significant difference in the **mean number of rides** and **churn rates** between iPhone and Android users.\n",
    "\n",
    "**The goal** is to apply descriptive statistics along with inferential methods—hypothesis testing and confidence intervals—to draw meaningful conclusions from the data."
   ]
  },
  {
   "cell_type": "markdown",
   "id": "49862f83-6493-44b3-a350-a7ccffaad97b",
   "metadata": {},
   "source": [
    "### 3a. Imports and data loading"
   ]
  },
  {
   "cell_type": "code",
   "execution_count": 1,
   "id": "19b68269-da4c-465e-938d-a740e497d168",
   "metadata": {},
   "outputs": [],
   "source": [
    "import pandas as pd\n",
    "import numpy as np\n",
    "from scipy import stats\n",
    "from statsmodels.stats.proportion import proportions_ztest\n",
    "from statsmodels.stats.proportion import proportions_ztest, confint_proportions_2indep"
   ]
  },
  {
   "cell_type": "code",
   "execution_count": 2,
   "id": "4e2e4d42-9de8-4f11-8db1-ac6354edcca9",
   "metadata": {},
   "outputs": [],
   "source": [
    "# Load dataset into dataframe\n",
    "df = pd.read_csv('waze_dataset.csv')"
   ]
  },
  {
   "cell_type": "markdown",
   "id": "f4914eb1-7cef-4bcf-b32f-0c57204ac09f",
   "metadata": {},
   "source": [
    "### 3b. Descriptive statistics"
   ]
  },
  {
   "cell_type": "markdown",
   "id": "42522526-64ea-44a4-b817-dcba48f1ffd7",
   "metadata": {},
   "source": [
    "**Note:** In the dataset, `device` is a categorical variable with the labels `iPhone` and `Android`."
   ]
  },
  {
   "cell_type": "code",
   "execution_count": 3,
   "id": "6286202d-ef64-4500-993e-e585ca902eda",
   "metadata": {},
   "outputs": [
    {
     "data": {
      "text/plain": [
       "device\n",
       "iPhone     67.859078\n",
       "Android    66.231838\n",
       "Name: drives, dtype: float64"
      ]
     },
     "execution_count": 3,
     "metadata": {},
     "output_type": "execute_result"
    }
   ],
   "source": [
    "df.groupby('device')['drives'].mean().sort_values(ascending=False)"
   ]
  },
  {
   "cell_type": "markdown",
   "id": "70b9502a-2f0f-4140-9059-baf98ee3b31e",
   "metadata": {},
   "source": [
    "Based on the averages shown, it appears that drivers who use an iPhone device to interact with the application have a higher number of drives on average. However, this difference might arise from random sampling, rather than being a true difference in the number of drives. To assess whether the difference is statistically significant, we can conduct a two-sample t-test."
   ]
  },
  {
   "cell_type": "code",
   "execution_count": 4,
   "id": "3211268e-b997-4b44-9361-51c9b80d7d95",
   "metadata": {},
   "outputs": [
    {
     "data": {
      "text/plain": [
       "device   label   \n",
       "Android  retained    0.824399\n",
       "         churned     0.175601\n",
       "iPhone   retained    0.821680\n",
       "         churned     0.178320\n",
       "Name: proportion, dtype: float64"
      ]
     },
     "execution_count": 4,
     "metadata": {},
     "output_type": "execute_result"
    }
   ],
   "source": [
    "df.groupby('device')['label'].value_counts(normalize=True)"
   ]
  },
  {
   "cell_type": "markdown",
   "id": "a2a6b5c6-f27e-47d7-8f18-85319af85384",
   "metadata": {},
   "source": [
    "The proportions show similar retention across devices (≈82% retained, ≈18% churned). iPhone users have a slightly higher churn rate, but this small difference may be due to chance. A two-proportion z-test can confirm if it is statistically significant."
   ]
  },
  {
   "cell_type": "markdown",
   "id": "2cb9190f-a03b-40f6-b8a0-445b09dbc706",
   "metadata": {},
   "source": [
    "### 3c. Mean number of rides"
   ]
  },
  {
   "cell_type": "markdown",
   "id": "249032b2-fdb6-4156-8d89-cc6992d62a3a",
   "metadata": {},
   "source": [
    "#### Hypothesis testing"
   ]
  },
  {
   "cell_type": "markdown",
   "id": "639c6b7a-23d5-42b2-a9c1-fb8dec2d7e37",
   "metadata": {},
   "source": [
    "**Hypotheses:**\n",
    "\n",
    "$H_0$: There is no difference in average number of drives between drivers who use iPhone devices and drivers who use Androids.\n",
    "\n",
    "$H_A$: There is a difference in average number of drives between drivers who use iPhone devices and drivers who use Androids."
   ]
  },
  {
   "cell_type": "markdown",
   "id": "f042d900-7770-4963-9f67-504c06941b8a",
   "metadata": {},
   "source": [
    "**Significance level:**\n",
    "\n",
    "5% is the significance level."
   ]
  },
  {
   "cell_type": "code",
   "execution_count": 5,
   "id": "d06ccbc8-9fb6-4ba1-b3c1-8956e16129fe",
   "metadata": {},
   "outputs": [
    {
     "data": {
      "text/plain": [
       "TtestResult(statistic=1.463523206885235, pvalue=0.143351972680206, df=11345.066049381952)"
      ]
     },
     "execution_count": 5,
     "metadata": {},
     "output_type": "execute_result"
    }
   ],
   "source": [
    "# Isolate the `drives` column for iPhone users\n",
    "iPhone = df[df['device'] == 'iPhone']['drives']\n",
    "\n",
    "# Isolate the `drives` column for Android users\n",
    "Android = df[df['device'] == 'Android']['drives']\n",
    "\n",
    "# Perform the two-sample t-test\n",
    "stats.ttest_ind(a=iPhone, b=Android, equal_var=False)"
   ]
  },
  {
   "cell_type": "markdown",
   "id": "499a3ca4-ed39-4e4e-993a-f8bc5a60c886",
   "metadata": {},
   "source": [
    "Based on the p-value we got above, do we reject or fail to reject the null hypothesis?\n",
    "\n",
    "> *Since the p-value (0.14) is larger than the chosen significance level (0.05), we fail to reject the null hypothesis. We conclude that there is **not** a statistically significant difference in the average number of drives between drivers who use iPhones and drivers who use Androids.*"
   ]
  },
  {
   "cell_type": "markdown",
   "id": "0ebf37c4-8b33-40dd-8e81-7e9b9ee12a21",
   "metadata": {},
   "source": [
    "#### Confidence interval"
   ]
  },
  {
   "cell_type": "markdown",
   "id": "9121c438-6d9a-4276-b75e-898768eb4593",
   "metadata": {},
   "source": [
    "**Confidence level:**\n",
    "\n",
    "95% is the confidence level."
   ]
  },
  {
   "cell_type": "code",
   "execution_count": 6,
   "id": "a0ac066f-2eb2-485e-a437-e395c0ee25ec",
   "metadata": {},
   "outputs": [
    {
     "data": {
      "text/plain": [
       "(-0.5522075447568255, 3.8066874303778064)"
      ]
     },
     "execution_count": 6,
     "metadata": {},
     "output_type": "execute_result"
    }
   ],
   "source": [
    "# Compute sample statistics\n",
    "mean1, mean2 = np.mean(iPhone), np.mean(Android)\n",
    "n1, n2 = len(iPhone), len(Android)\n",
    "s1, s2 = np.std(iPhone, ddof=1), np.std(Android, ddof=1)\n",
    "\n",
    "# Calculate standard error of the difference\n",
    "se = np.sqrt(s1**2/n1 + s2**2/n2)\n",
    "\n",
    "# Compute degrees of freedom (Welch–Satterthwaite)\n",
    "dof = (s1**2/n1 + s2**2/n2)**2 / ((s1**2/n1)**2/(n1-1) + (s2**2/n2)**2/(n2-1))\n",
    "\n",
    "# Calculate t critical value for 95% CI\n",
    "alpha = 0.05\n",
    "t_crit = stats.t.ppf(1 - alpha/2, dof)\n",
    "\n",
    "# Compute confidence interval for difference in means\n",
    "diff = mean1 - mean2\n",
    "ci_lower = diff - t_crit*se\n",
    "ci_upper = diff + t_crit*se\n",
    "(ci_lower, ci_upper)"
   ]
  },
  {
   "cell_type": "markdown",
   "id": "c6358fef-2f35-472a-8457-3fe16c988719",
   "metadata": {},
   "source": [
    "Based on the confidence interval we computed above, what can we conclude?\n",
    "\n",
    "> *Since the 95% confidence interval for the difference in means (-0.55, 3.81) includes 0, we cannot rule out the possibility that the population difference is zero. We conclude that there is **not** a statistically significant difference in the average number of drives between drivers who use iPhones and drivers who use Androids, which is consistent with and supports the hypothesis test result above.*"
   ]
  },
  {
   "cell_type": "markdown",
   "id": "e7d205f1-3a8d-4c92-af6d-c6f9f6bb070a",
   "metadata": {},
   "source": [
    "### 3d. Churn rates"
   ]
  },
  {
   "cell_type": "markdown",
   "id": "cac0bba4-01d8-4453-b55a-20c73e0142cc",
   "metadata": {},
   "source": [
    "#### Hypothesis testing"
   ]
  },
  {
   "cell_type": "markdown",
   "id": "c89e8cb5-6a08-4b71-b29b-ed5c013b5e1f",
   "metadata": {},
   "source": [
    "**Hypotheses:**\n",
    "\n",
    "$H_0$: There is no difference in churn rates between iPhone and Android users.\n",
    "\n",
    "$H_A$: There is a difference in churn rates between iPhone and Android users."
   ]
  },
  {
   "cell_type": "markdown",
   "id": "3f20878b-625c-411a-91a5-4b98fbed00cb",
   "metadata": {},
   "source": [
    "**Significance level:**\n",
    "\n",
    "5% is the significance level."
   ]
  },
  {
   "cell_type": "code",
   "execution_count": 7,
   "id": "c5892d58-6ea3-4649-83bb-b29a01064934",
   "metadata": {},
   "outputs": [
    {
     "data": {
      "text/plain": [
       "0.6838419397722314"
      ]
     },
     "execution_count": 7,
     "metadata": {},
     "output_type": "execute_result"
    }
   ],
   "source": [
    "# Create contingency table\n",
    "contingency = pd.crosstab(df['device'], df['label'])\n",
    "\n",
    "# Extract churn counts and totals\n",
    "churn_counts = contingency['churned'].values\n",
    "n_obs = contingency.sum(axis=1).values\n",
    "\n",
    "# Perform the two-proportion z-test\n",
    "_, pvalue = proportions_ztest(churn_counts, n_obs)\n",
    "pvalue"
   ]
  },
  {
   "cell_type": "markdown",
   "id": "aa81078d-bf01-446e-a765-777cb54dc95d",
   "metadata": {},
   "source": [
    "Based on the p-value we got above, do we reject or fail to reject the null hypothesis?\n",
    "\n",
    "> *Since the p-value (0.68) is larger than the chosen significance level (0.05), we fail to reject the null hypothesis. We conclude that there is **not** a statistically significant difference in churn rates between iPhone and Android users.*"
   ]
  },
  {
   "cell_type": "markdown",
   "id": "bae44c1f-25e2-40be-8a57-5054d50c140d",
   "metadata": {},
   "source": [
    "#### Confidence interval"
   ]
  },
  {
   "cell_type": "markdown",
   "id": "c0251efc-f15e-4868-ac3c-ddf1d5584656",
   "metadata": {},
   "source": [
    "**Confidence level:**\n",
    "\n",
    "95% is the confidence level."
   ]
  },
  {
   "cell_type": "code",
   "execution_count": 8,
   "id": "3fd31697-51c7-45ab-9c3e-d29417b4aea2",
   "metadata": {},
   "outputs": [
    {
     "data": {
      "text/plain": [
       "(-0.010343262371848204, 0.015780621436018293)"
      ]
     },
     "execution_count": 8,
     "metadata": {},
     "output_type": "execute_result"
    }
   ],
   "source": [
    "# Compute 95% confidence interval for difference in proportions\n",
    "ci_lower, ci_upper = confint_proportions_2indep(\n",
    "    count1=churn_counts[1], nobs1=n_obs[1],\n",
    "    count2=churn_counts[0], nobs2=n_obs[0],\n",
    "    method=\"wald\"\n",
    ")\n",
    "(ci_lower, ci_upper)"
   ]
  },
  {
   "cell_type": "markdown",
   "id": "416f74d4-856e-44e4-8cca-c31cb36da58d",
   "metadata": {},
   "source": [
    "Based on the confidence interval we computed above, what can we conclude?\n",
    "\n",
    "> *Since the 95% confidence interval for the difference in proportions (-0.01, 0.02) includes 0, we cannot rule out the possibility that the population difference is zero. We conclude that there is **not** a statistically significant difference in churn rates between iPhone and Android users, which is consistent with and supports the hypothesis test result above.*"
   ]
  },
  {
   "cell_type": "markdown",
   "id": "1bfc97cd-f6f5-499c-853b-be6eecffea2b",
   "metadata": {},
   "source": [
    "### Conclusion"
   ]
  },
  {
   "cell_type": "markdown",
   "id": "7efe29d4-71e4-4425-bfc8-565ea6adb981",
   "metadata": {},
   "source": [
    "What business insight(s) can we draw from the result of our statistical analysis?\n",
    "\n",
    "> *The analysis indicates that drivers using iPhone and Android devices show no statistically significant differences in either their average number of drives or their churn rates. This suggests that device type is not a meaningful factor influencing driver activity or retention.*"
   ]
  },
  {
   "cell_type": "markdown",
   "id": "bc06cc7d-d6c6-49ab-9190-c21406ef3d59",
   "metadata": {},
   "source": [
    "# END OF PART 3"
   ]
  }
 ],
 "metadata": {
  "kernelspec": {
   "display_name": "Python 3 (ipykernel)",
   "language": "python",
   "name": "python3"
  },
  "language_info": {
   "codemirror_mode": {
    "name": "ipython",
    "version": 3
   },
   "file_extension": ".py",
   "mimetype": "text/x-python",
   "name": "python",
   "nbconvert_exporter": "python",
   "pygments_lexer": "ipython3",
   "version": "3.10.17"
  }
 },
 "nbformat": 4,
 "nbformat_minor": 5
}
